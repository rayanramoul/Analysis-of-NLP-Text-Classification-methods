{
 "cells": [
  {
   "cell_type": "markdown",
   "id": "623a2749-b52e-4507-9864-a0c33c569213",
   "metadata": {},
   "source": [
    "# Reading file"
   ]
  },
  {
   "cell_type": "code",
   "execution_count": 1,
   "id": "451919cd-1ad6-4875-9df1-8056761b61bb",
   "metadata": {},
   "outputs": [
    {
     "name": "stderr",
     "output_type": "stream",
     "text": [
      "c:\\users\\ray\\documents\\shhh\\env\\lib\\site-packages\\IPython\\core\\interactiveshell.py:3441: FutureWarning: The error_bad_lines argument has been deprecated and will be removed in a future version.\n",
      "\n",
      "\n",
      "  exec(code_obj, self.user_global_ns, self.user_ns)\n",
      "b'Skipping line 8084: expected 13 fields, saw 20\\nSkipping line 52607: expected 13 fields, saw 21\\nSkipping line 59910: expected 13 fields, saw 21\\n'\n",
      "b'Skipping line 71801: expected 13 fields, saw 20\\nSkipping line 73539: expected 13 fields, saw 21\\nSkipping line 77230: expected 13 fields, saw 21\\nSkipping line 78953: expected 13 fields, saw 21\\nSkipping line 81138: expected 13 fields, saw 20\\nSkipping line 86746: expected 13 fields, saw 22\\nSkipping line 101154: expected 13 fields, saw 21\\nSkipping line 115438: expected 13 fields, saw 20\\nSkipping line 117573: expected 13 fields, saw 22\\nSkipping line 130610: expected 13 fields, saw 22\\n'\n",
      "b'Skipping line 152970: expected 13 fields, saw 22\\nSkipping line 153017: expected 13 fields, saw 20\\nSkipping line 153018: expected 13 fields, saw 30\\nSkipping line 154080: expected 13 fields, saw 20\\nSkipping line 154082: expected 13 fields, saw 20\\nSkipping line 154084: expected 13 fields, saw 20\\nSkipping line 154086: expected 13 fields, saw 20\\nSkipping line 154089: expected 13 fields, saw 23\\nSkipping line 154165: expected 13 fields, saw 21\\nSkipping line 156872: expected 13 fields, saw 20\\n'\n",
      "c:\\users\\ray\\documents\\shhh\\env\\lib\\site-packages\\IPython\\core\\interactiveshell.py:3441: DtypeWarning: Columns (4,5,6) have mixed types.Specify dtype option on import or set low_memory=False.\n",
      "  exec(code_obj, self.user_global_ns, self.user_ns)\n"
     ]
    },
    {
     "data": {
      "text/html": [
       "<div>\n",
       "<style scoped>\n",
       "    .dataframe tbody tr th:only-of-type {\n",
       "        vertical-align: middle;\n",
       "    }\n",
       "\n",
       "    .dataframe tbody tr th {\n",
       "        vertical-align: top;\n",
       "    }\n",
       "\n",
       "    .dataframe thead th {\n",
       "        text-align: right;\n",
       "    }\n",
       "</style>\n",
       "<table border=\"1\" class=\"dataframe\">\n",
       "  <thead>\n",
       "    <tr style=\"text-align: right;\">\n",
       "      <th></th>\n",
       "      <th>id</th>\n",
       "      <th>episode_id</th>\n",
       "      <th>number</th>\n",
       "      <th>raw_text</th>\n",
       "      <th>timestamp_in_ms</th>\n",
       "      <th>speaking_line</th>\n",
       "      <th>character_id</th>\n",
       "      <th>location_id</th>\n",
       "      <th>raw_character_text</th>\n",
       "      <th>raw_location_text</th>\n",
       "      <th>spoken_words</th>\n",
       "      <th>normalized_text</th>\n",
       "      <th>word_count</th>\n",
       "    </tr>\n",
       "  </thead>\n",
       "  <tbody>\n",
       "    <tr>\n",
       "      <th>0</th>\n",
       "      <td>9549</td>\n",
       "      <td>32</td>\n",
       "      <td>209</td>\n",
       "      <td>Miss Hoover: No, actually, it was a little of ...</td>\n",
       "      <td>848000</td>\n",
       "      <td>True</td>\n",
       "      <td>464.0</td>\n",
       "      <td>3.0</td>\n",
       "      <td>Miss Hoover</td>\n",
       "      <td>Springfield Elementary School</td>\n",
       "      <td>No, actually, it was a little of both. Sometim...</td>\n",
       "      <td>no actually it was a little of both sometimes ...</td>\n",
       "      <td>31.0</td>\n",
       "    </tr>\n",
       "    <tr>\n",
       "      <th>1</th>\n",
       "      <td>9550</td>\n",
       "      <td>32</td>\n",
       "      <td>210</td>\n",
       "      <td>Lisa Simpson: (NEAR TEARS) Where's Mr. Bergstrom?</td>\n",
       "      <td>856000</td>\n",
       "      <td>True</td>\n",
       "      <td>9.0</td>\n",
       "      <td>3.0</td>\n",
       "      <td>Lisa Simpson</td>\n",
       "      <td>Springfield Elementary School</td>\n",
       "      <td>Where's Mr. Bergstrom?</td>\n",
       "      <td>wheres mr bergstrom</td>\n",
       "      <td>3.0</td>\n",
       "    </tr>\n",
       "    <tr>\n",
       "      <th>2</th>\n",
       "      <td>9551</td>\n",
       "      <td>32</td>\n",
       "      <td>211</td>\n",
       "      <td>Miss Hoover: I don't know. Although I'd sure l...</td>\n",
       "      <td>856000</td>\n",
       "      <td>True</td>\n",
       "      <td>464.0</td>\n",
       "      <td>3.0</td>\n",
       "      <td>Miss Hoover</td>\n",
       "      <td>Springfield Elementary School</td>\n",
       "      <td>I don't know. Although I'd sure like to talk t...</td>\n",
       "      <td>i dont know although id sure like to talk to h...</td>\n",
       "      <td>22.0</td>\n",
       "    </tr>\n",
       "    <tr>\n",
       "      <th>3</th>\n",
       "      <td>9552</td>\n",
       "      <td>32</td>\n",
       "      <td>212</td>\n",
       "      <td>Lisa Simpson: That life is worth living.</td>\n",
       "      <td>864000</td>\n",
       "      <td>True</td>\n",
       "      <td>9.0</td>\n",
       "      <td>3.0</td>\n",
       "      <td>Lisa Simpson</td>\n",
       "      <td>Springfield Elementary School</td>\n",
       "      <td>That life is worth living.</td>\n",
       "      <td>that life is worth living</td>\n",
       "      <td>5.0</td>\n",
       "    </tr>\n",
       "    <tr>\n",
       "      <th>4</th>\n",
       "      <td>9553</td>\n",
       "      <td>32</td>\n",
       "      <td>213</td>\n",
       "      <td>Edna Krabappel-Flanders: The polls will be ope...</td>\n",
       "      <td>864000</td>\n",
       "      <td>True</td>\n",
       "      <td>40.0</td>\n",
       "      <td>3.0</td>\n",
       "      <td>Edna Krabappel-Flanders</td>\n",
       "      <td>Springfield Elementary School</td>\n",
       "      <td>The polls will be open from now until the end ...</td>\n",
       "      <td>the polls will be open from now until the end ...</td>\n",
       "      <td>33.0</td>\n",
       "    </tr>\n",
       "    <tr>\n",
       "      <th>...</th>\n",
       "      <td>...</td>\n",
       "      <td>...</td>\n",
       "      <td>...</td>\n",
       "      <td>...</td>\n",
       "      <td>...</td>\n",
       "      <td>...</td>\n",
       "      <td>...</td>\n",
       "      <td>...</td>\n",
       "      <td>...</td>\n",
       "      <td>...</td>\n",
       "      <td>...</td>\n",
       "      <td>...</td>\n",
       "      <td>...</td>\n",
       "    </tr>\n",
       "    <tr>\n",
       "      <th>158243</th>\n",
       "      <td>9544</td>\n",
       "      <td>32</td>\n",
       "      <td>204</td>\n",
       "      <td>Miss Hoover: (OFF LISA'S REACTION) I'm back.</td>\n",
       "      <td>831000</td>\n",
       "      <td>true</td>\n",
       "      <td>464</td>\n",
       "      <td>3.0</td>\n",
       "      <td>Miss Hoover</td>\n",
       "      <td>Springfield Elementary School</td>\n",
       "      <td>I'm back.</td>\n",
       "      <td>im back</td>\n",
       "      <td>2.0</td>\n",
       "    </tr>\n",
       "    <tr>\n",
       "      <th>158244</th>\n",
       "      <td>9545</td>\n",
       "      <td>32</td>\n",
       "      <td>205</td>\n",
       "      <td>Miss Hoover: You see, class, my Lyme disease t...</td>\n",
       "      <td>839000</td>\n",
       "      <td>true</td>\n",
       "      <td>464</td>\n",
       "      <td>3.0</td>\n",
       "      <td>Miss Hoover</td>\n",
       "      <td>Springfield Elementary School</td>\n",
       "      <td>You see, class, my Lyme disease turned out to ...</td>\n",
       "      <td>you see class my lyme disease turned out to be</td>\n",
       "      <td>10.0</td>\n",
       "    </tr>\n",
       "    <tr>\n",
       "      <th>158245</th>\n",
       "      <td>9546</td>\n",
       "      <td>32</td>\n",
       "      <td>206</td>\n",
       "      <td>Miss Hoover: Psy-cho-so-ma-tic.</td>\n",
       "      <td>842000</td>\n",
       "      <td>true</td>\n",
       "      <td>464</td>\n",
       "      <td>3.0</td>\n",
       "      <td>Miss Hoover</td>\n",
       "      <td>Springfield Elementary School</td>\n",
       "      <td>Psy-cho-so-ma-tic.</td>\n",
       "      <td>psy-cho-so-ma-tic</td>\n",
       "      <td>1.0</td>\n",
       "    </tr>\n",
       "    <tr>\n",
       "      <th>158246</th>\n",
       "      <td>9547</td>\n",
       "      <td>32</td>\n",
       "      <td>207</td>\n",
       "      <td>Ralph Wiggum: Does that mean you were crazy?</td>\n",
       "      <td>844000</td>\n",
       "      <td>true</td>\n",
       "      <td>119</td>\n",
       "      <td>3.0</td>\n",
       "      <td>Ralph Wiggum</td>\n",
       "      <td>Springfield Elementary School</td>\n",
       "      <td>Does that mean you were crazy?</td>\n",
       "      <td>does that mean you were crazy</td>\n",
       "      <td>6.0</td>\n",
       "    </tr>\n",
       "    <tr>\n",
       "      <th>158247</th>\n",
       "      <td>9548</td>\n",
       "      <td>32</td>\n",
       "      <td>208</td>\n",
       "      <td>JANEY: No, that means she was faking it.</td>\n",
       "      <td>845000</td>\n",
       "      <td>true</td>\n",
       "      <td>4</td>\n",
       "      <td>3.0</td>\n",
       "      <td>JANEY</td>\n",
       "      <td>Springfield Elementary School</td>\n",
       "      <td>No, that means she was faking it.</td>\n",
       "      <td>no that means she was faking it</td>\n",
       "      <td>7.0</td>\n",
       "    </tr>\n",
       "  </tbody>\n",
       "</table>\n",
       "<p>131685 rows × 13 columns</p>\n",
       "</div>"
      ],
      "text/plain": [
       "          id  episode_id  number  \\\n",
       "0       9549          32     209   \n",
       "1       9550          32     210   \n",
       "2       9551          32     211   \n",
       "3       9552          32     212   \n",
       "4       9553          32     213   \n",
       "...      ...         ...     ...   \n",
       "158243  9544          32     204   \n",
       "158244  9545          32     205   \n",
       "158245  9546          32     206   \n",
       "158246  9547          32     207   \n",
       "158247  9548          32     208   \n",
       "\n",
       "                                                 raw_text timestamp_in_ms  \\\n",
       "0       Miss Hoover: No, actually, it was a little of ...          848000   \n",
       "1       Lisa Simpson: (NEAR TEARS) Where's Mr. Bergstrom?          856000   \n",
       "2       Miss Hoover: I don't know. Although I'd sure l...          856000   \n",
       "3                Lisa Simpson: That life is worth living.          864000   \n",
       "4       Edna Krabappel-Flanders: The polls will be ope...          864000   \n",
       "...                                                   ...             ...   \n",
       "158243       Miss Hoover: (OFF LISA'S REACTION) I'm back.          831000   \n",
       "158244  Miss Hoover: You see, class, my Lyme disease t...          839000   \n",
       "158245                    Miss Hoover: Psy-cho-so-ma-tic.          842000   \n",
       "158246       Ralph Wiggum: Does that mean you were crazy?          844000   \n",
       "158247           JANEY: No, that means she was faking it.          845000   \n",
       "\n",
       "       speaking_line character_id  location_id       raw_character_text  \\\n",
       "0               True        464.0          3.0              Miss Hoover   \n",
       "1               True          9.0          3.0             Lisa Simpson   \n",
       "2               True        464.0          3.0              Miss Hoover   \n",
       "3               True          9.0          3.0             Lisa Simpson   \n",
       "4               True         40.0          3.0  Edna Krabappel-Flanders   \n",
       "...              ...          ...          ...                      ...   \n",
       "158243          true          464          3.0              Miss Hoover   \n",
       "158244          true          464          3.0              Miss Hoover   \n",
       "158245          true          464          3.0              Miss Hoover   \n",
       "158246          true          119          3.0             Ralph Wiggum   \n",
       "158247          true            4          3.0                    JANEY   \n",
       "\n",
       "                    raw_location_text  \\\n",
       "0       Springfield Elementary School   \n",
       "1       Springfield Elementary School   \n",
       "2       Springfield Elementary School   \n",
       "3       Springfield Elementary School   \n",
       "4       Springfield Elementary School   \n",
       "...                               ...   \n",
       "158243  Springfield Elementary School   \n",
       "158244  Springfield Elementary School   \n",
       "158245  Springfield Elementary School   \n",
       "158246  Springfield Elementary School   \n",
       "158247  Springfield Elementary School   \n",
       "\n",
       "                                             spoken_words  \\\n",
       "0       No, actually, it was a little of both. Sometim...   \n",
       "1                                  Where's Mr. Bergstrom?   \n",
       "2       I don't know. Although I'd sure like to talk t...   \n",
       "3                              That life is worth living.   \n",
       "4       The polls will be open from now until the end ...   \n",
       "...                                                   ...   \n",
       "158243                                          I'm back.   \n",
       "158244  You see, class, my Lyme disease turned out to ...   \n",
       "158245                                 Psy-cho-so-ma-tic.   \n",
       "158246                     Does that mean you were crazy?   \n",
       "158247                  No, that means she was faking it.   \n",
       "\n",
       "                                          normalized_text  word_count  \n",
       "0       no actually it was a little of both sometimes ...        31.0  \n",
       "1                                     wheres mr bergstrom         3.0  \n",
       "2       i dont know although id sure like to talk to h...        22.0  \n",
       "3                               that life is worth living         5.0  \n",
       "4       the polls will be open from now until the end ...        33.0  \n",
       "...                                                   ...         ...  \n",
       "158243                                            im back         2.0  \n",
       "158244     you see class my lyme disease turned out to be        10.0  \n",
       "158245                                  psy-cho-so-ma-tic         1.0  \n",
       "158246                      does that mean you were crazy         6.0  \n",
       "158247                    no that means she was faking it         7.0  \n",
       "\n",
       "[131685 rows x 13 columns]"
      ]
     },
     "execution_count": 1,
     "metadata": {},
     "output_type": "execute_result"
    }
   ],
   "source": [
    "import pandas as pd\n",
    "\n",
    "file_name = \"simpsons_script_lines.csv\"\n",
    "df = pd.read_csv(file_name,  error_bad_lines=False)\n",
    "df = df.dropna()\n",
    "df"
   ]
  },
  {
   "cell_type": "markdown",
   "id": "c2008b7e-6e68-4cb9-856a-f63fd5d32b37",
   "metadata": {},
   "source": [
    "### We can see a reasonable number of lines for our data, we need to analyse the number of classes and their distribution."
   ]
  },
  {
   "cell_type": "code",
   "execution_count": 2,
   "id": "b917d19b-85a6-4ea4-a646-1233a3139067",
   "metadata": {},
   "outputs": [
    {
     "data": {
      "text/plain": [
       "0         No, actually, it was a little of both. Sometim...\n",
       "1                                    Where's Mr. Bergstrom?\n",
       "2         I don't know. Although I'd sure like to talk t...\n",
       "3                                That life is worth living.\n",
       "4         The polls will be open from now until the end ...\n",
       "                                ...                        \n",
       "158243                                            I'm back.\n",
       "158244    You see, class, my Lyme disease turned out to ...\n",
       "158245                                   Psy-cho-so-ma-tic.\n",
       "158246                       Does that mean you were crazy?\n",
       "158247                    No, that means she was faking it.\n",
       "Name: spoken_words, Length: 131685, dtype: object"
      ]
     },
     "execution_count": 2,
     "metadata": {},
     "output_type": "execute_result"
    }
   ],
   "source": [
    "df['spoken_words']"
   ]
  },
  {
   "cell_type": "code",
   "execution_count": 3,
   "id": "066c0201-1c08-4b60-8649-078f633e8225",
   "metadata": {},
   "outputs": [
    {
     "data": {
      "text/plain": [
       "array([  3., 374., 375., ..., 370., 371., 373.])"
      ]
     },
     "execution_count": 3,
     "metadata": {},
     "output_type": "execute_result"
    }
   ],
   "source": [
    "df['location_id'].unique()"
   ]
  },
  {
   "cell_type": "code",
   "execution_count": 4,
   "id": "3e1d1617-7a00-44e0-9f23-95fde7d65c14",
   "metadata": {},
   "outputs": [],
   "source": [
    "df['location_id'].unique()\n",
    "distribution_class = df['location_id'].value_counts()"
   ]
  },
  {
   "cell_type": "code",
   "execution_count": 5,
   "id": "3e9a3e9d-2cc7-4232-a176-e32f56cafb58",
   "metadata": {},
   "outputs": [
    {
     "name": "stdout",
     "output_type": "stream",
     "text": [
      "33.170025188916874\n",
      "1\n"
     ]
    }
   ],
   "source": [
    "distribution_class = df['location_id'].value_counts()\n",
    "distribution_class\n",
    "print(distribution_class.mean())\n",
    "print(distribution_class.min())"
   ]
  },
  {
   "cell_type": "code",
   "execution_count": 6,
   "id": "9b5586ef-f04f-4d83-81fa-80c4abb8f98c",
   "metadata": {},
   "outputs": [
    {
     "name": "stderr",
     "output_type": "stream",
     "text": [
      "c:\\users\\ray\\documents\\shhh\\env\\lib\\site-packages\\seaborn\\distributions.py:2557: FutureWarning: `distplot` is a deprecated function and will be removed in a future version. Please adapt your code to use either `displot` (a figure-level function with similar flexibility) or `histplot` (an axes-level function for histograms).\n",
      "  warnings.warn(msg, FutureWarning)\n"
     ]
    },
    {
     "data": {
      "text/plain": [
       "<AxesSubplot:xlabel='location_id'>"
      ]
     },
     "execution_count": 6,
     "metadata": {},
     "output_type": "execute_result"
    },
    {
     "data": {
      "image/png": "[encoded data removed]",
      "text/plain": [
       "<Figure size 1440x595.44 with 1 Axes>"
      ]
     },
     "metadata": {},
     "output_type": "display_data"
    }
   ],
   "source": [
    "import seaborn as sns\n",
    "import matplotlib.pyplot as plt\n",
    "\n",
    "sns.set(rc={'figure.figsize':(20  ,8.27)})\n",
    "sns.set_style('whitegrid')\n",
    "sns.distplot(df['location_id'], kde = False, color ='red', bins = 30)"
   ]
  },
  {
   "cell_type": "markdown",
   "id": "e9f5b93d-02a9-480b-8f1c-6324a62dad8f",
   "metadata": {},
   "source": [
    "### I delete the categories which had less than 15 examples because this isn't sufficient to learn anything for a model, and might be outliers then for the training part."
   ]
  },
  {
   "cell_type": "code",
   "execution_count": 7,
   "id": "05f2223e-4dbf-4d77-8553-76687eec8b1b",
   "metadata": {},
   "outputs": [],
   "source": [
    "### We can see ditr"
   ]
  },
  {
   "cell_type": "code",
   "execution_count": 8,
   "id": "3a27c81d-90a6-4fd7-9a8b-009309a55057",
   "metadata": {},
   "outputs": [],
   "source": [
    "#distribution_class\n",
    "for i, v in distribution_class.items():\n",
    "    #print('index: ', i, 'value: ', v)\n",
    "    if v<15:\n",
    "        df = df[df.location_id != i]"
   ]
  },
  {
   "cell_type": "code",
   "execution_count": 9,
   "id": "970870f5-d51f-4b2d-bebc-2bd049688ceb",
   "metadata": {},
   "outputs": [
    {
     "data": {
      "text/plain": [
       "<AxesSubplot:xlabel='location_id'>"
      ]
     },
     "execution_count": 9,
     "metadata": {},
     "output_type": "execute_result"
    },
    {
     "data": {
      "image/png": "[encoded data removed]",
      "text/plain": [
       "<Figure size 1440x595.44 with 1 Axes>"
      ]
     },
     "metadata": {},
     "output_type": "display_data"
    }
   ],
   "source": [
    "import seaborn as sns\n",
    "import matplotlib.pyplot as plt\n",
    "\n",
    "sns.set(rc={'figure.figsize':(20  ,8.27)})\n",
    "sns.set_style('whitegrid')\n",
    "sns.distplot(df['location_id'], kde = False, color ='red', bins = 30)"
   ]
  },
  {
   "cell_type": "markdown",
   "id": "1e717159-f5b6-4e1f-8354-d6c1bb58ea76",
   "metadata": {},
   "source": [
    "## There is one dominant class which can cause overfitting problem, to resolve this problem i opt for an undersampling method to equalize the distribution, but i could also synthetize new examples for the other classes ( using SMOTE for example )."
   ]
  },
  {
   "cell_type": "code",
   "execution_count": 10,
   "id": "b0f80b76-fc89-4343-b067-a26b82b57cb9",
   "metadata": {},
   "outputs": [
    {
     "name": "stdout",
     "output_type": "stream",
     "text": [
      "97.32912457912458\n",
      "15\n"
     ]
    }
   ],
   "source": [
    "distribution_class = df['location_id'].value_counts()\n",
    "print(distribution_class.mean())\n",
    "print(distribution_class.min())"
   ]
  },
  {
   "cell_type": "code",
   "execution_count": 11,
   "id": "714011c8-68d5-4e87-ae28-3d8609dfef9a",
   "metadata": {},
   "outputs": [
    {
     "name": "stdout",
     "output_type": "stream",
     "text": [
      "           id  episode_id  number  \\\n",
      "0      153383         549      13   \n",
      "1       75417         262      46   \n",
      "2       15824          52     267   \n",
      "3       22111          74     230   \n",
      "4       16451          54     242   \n",
      "...       ...         ...     ...   \n",
      "36922  158275         568     165   \n",
      "36923  158276         568     166   \n",
      "36924  158277         568     167   \n",
      "36925  158278         568     168   \n",
      "36926  158279         568     169   \n",
      "\n",
      "                                                raw_text timestamp_in_ms  \\\n",
      "0                         Paramedic: (QUICK) No, no, no!          216000   \n",
      "1                             Bart Simpson: Who are you?          305000   \n",
      "2                    Woman: The dryer goes on the right.         1041000   \n",
      "3      Homer Simpson: You know, one day honest citize...         1003000   \n",
      "4      Kent Brockman: Hmm huh. And I suppose you want...         1191000   \n",
      "...                                                  ...             ...   \n",
      "36922                Homer Simpson: Is it even cheating?         1040000   \n",
      "36923  SECURITY THUG #2: No, but-- it's just not allo...         1041000   \n",
      "36924  Homer Simpson: I don't get it. Football player...         1044000   \n",
      "36925  SECURITY THUG #1: I can't take any more of thi...         1051000   \n",
      "36926  Homer Simpson: (SMUG) I knew you had a vise! I...         1054000   \n",
      "\n",
      "      speaking_line character_id  location_id raw_character_text  \\\n",
      "0              true         2106          1.0          Paramedic   \n",
      "1              True          8.0          1.0       Bart Simpson   \n",
      "2              True        118.0          1.0              Woman   \n",
      "3              True          2.0          1.0      Homer Simpson   \n",
      "4              True        211.0          1.0      Kent Brockman   \n",
      "...             ...          ...          ...                ...   \n",
      "36922          true            2       4454.0      Homer Simpson   \n",
      "36923          true         6748       4454.0   SECURITY THUG #2   \n",
      "36924          true            2       4454.0      Homer Simpson   \n",
      "36925          true         6747       4454.0   SECURITY THUG #1   \n",
      "36926          true            2       4454.0      Homer Simpson   \n",
      "\n",
      "      raw_location_text                                       spoken_words  \\\n",
      "0                Street                                        No, no, no!   \n",
      "1                Street                                       Who are you?   \n",
      "2                Street                       The dryer goes on the right.   \n",
      "3                Street  You know, one day honest citizens are going to...   \n",
      "4                Street  Hmm huh. And I suppose you want me to buy you ...   \n",
      "...                 ...                                                ...   \n",
      "36922  RIVERBOAT CASINO                               Is it even cheating?   \n",
      "36923  RIVERBOAT CASINO                   No, but-- it's just not allowed.   \n",
      "36924  RIVERBOAT CASINO  I don't get it. Football players can do the qu...   \n",
      "36925  RIVERBOAT CASINO   I can't take any more of this guy. Get the vise.   \n",
      "36926  RIVERBOAT CASINO                  I knew you had a vise! I knew it!   \n",
      "\n",
      "                                         normalized_text  word_count  \n",
      "0                                               no no no         3.0  \n",
      "1                                            who are you         3.0  \n",
      "2                            the dryer goes on the right         6.0  \n",
      "3      you know one day honest citizens are going to ...        15.0  \n",
      "4      hmm huh and i suppose you want me to buy you a...        34.0  \n",
      "...                                                  ...         ...  \n",
      "36922                                is it even cheating         4.0  \n",
      "36923                      no but-- its just not allowed         6.0  \n",
      "36924  i dont get it football players can do the quar...        27.0  \n",
      "36925      i cant take any more of this guy get the vise        11.0  \n",
      "36926                    i knew you had a vise i knew it         9.0  \n",
      "\n",
      "[36927 rows x 13 columns]\n"
     ]
    },
    {
     "name": "stderr",
     "output_type": "stream",
     "text": [
      "c:\\users\\ray\\documents\\shhh\\env\\lib\\site-packages\\seaborn\\distributions.py:2557: FutureWarning: `distplot` is a deprecated function and will be removed in a future version. Please adapt your code to use either `displot` (a figure-level function with similar flexibility) or `histplot` (an axes-level function for histograms).\n",
      "  warnings.warn(msg, FutureWarning)\n"
     ]
    },
    {
     "data": {
      "text/plain": [
       "<AxesSubplot:xlabel='location_id'>"
      ]
     },
     "execution_count": 11,
     "metadata": {},
     "output_type": "execute_result"
    },
    {
     "data": {
      "image/png": "[encoded data removed]",
      "text/plain": [
       "<Figure size 1440x595.44 with 1 Axes>"
      ]
     },
     "metadata": {},
     "output_type": "display_data"
    }
   ],
   "source": [
    "def sampling_k_elements(group, k=50):\n",
    "    if len(group) < k:\n",
    "        return group\n",
    "    return group.sample(k)\n",
    "df = df.groupby('location_id').apply(sampling_k_elements).reset_index(drop=True)\n",
    "print(df)\n",
    "sns.set(rc={'figure.figsize':(20  ,8.27)})\n",
    "sns.set_style('whitegrid')\n",
    "sns.distplot(df['location_id'], kde = False, color ='red', bins = 30)\n"
   ]
  },
  {
   "cell_type": "markdown",
   "id": "e1fb9c75-eb58-456e-bc5b-2448aba9a2bc",
   "metadata": {},
   "source": [
    "# Important columns :\n",
    "- spoken_words / normalized_text / raw_locatation_text\n",
    "- speaking_line\n",
    "\n",
    "## Text-Processing :\n",
    "### Stemming :\n",
    "We converts words into their stem/basic word, which will help TF-IDF to generalize later in our process.\n",
    "### Stop-Words :\n",
    "We delete from our set of words the \"stop\" words like \" and, or \" ..ect. Which won't help in the sentence meaning understanding, and would impact negatively our training.\n",
    "### Tokenize :\n",
    "We tokenize to get rid of punctuations which are not meaningful to our training.\n",
    "### TF-IDF :\n",
    "Reflects the importance of a word for a document in a collection (corpus) but does not take into account the semantic meaning of words. TF stands for the probability of occurrence of a word in a sentence.\n",
    "It gives more importance to words that appear less frequently in the whole corpus and also gives importance to the most frequent words that appear in each data.\n",
    "I need to extract a textual format from the text."
   ]
  },
  {
   "cell_type": "code",
   "execution_count": 12,
   "id": "458acf4a-eb51-4d96-8454-eb8d4e4a6e99",
   "metadata": {},
   "outputs": [],
   "source": [
    "from sklearn.feature_extraction.text import CountVectorizer\n",
    "from sklearn.feature_extraction.text import TfidfTransformer\n",
    "from sklearn.feature_extraction.text import TfidfVectorizer\n",
    "from sklearn.model_selection import train_test_split\n",
    "from nltk.corpus import stopwords\n",
    "from nltk.tokenize import word_tokenize\n",
    "from nltk.stem.snowball import SnowballStemmer\n",
    "from unidecode import unidecode\n",
    "import nltk\n",
    "\n",
    "\n",
    "stemmer = SnowballStemmer(language='english')\n",
    "stopwords = [unidecode(x) for x in stopwords.words('english')]\n",
    "tokenizer = nltk.RegexpTokenizer(r\"\\w+\")\n",
    "\n",
    "df['tokenized_text'] = df['raw_text'].apply(word_tokenize) \n",
    "df['stemmed'] = df.apply(lambda x: ' '.join([stemmer.stem(token) for token in x['tokenized_text']]), axis=1)\n",
    "df['cleared'] = df.apply(lambda x: ' '.join([word for word in tokenizer.tokenize(x['stemmed']) if word not in stopwords]), axis=1)"
   ]
  },
  {
   "cell_type": "code",
   "execution_count": 13,
   "id": "58773cc5-b49f-44f4-a579-ddca3ca02380",
   "metadata": {},
   "outputs": [
    {
     "data": {
      "text/html": [
       "<div>\n",
       "<style scoped>\n",
       "    .dataframe tbody tr th:only-of-type {\n",
       "        vertical-align: middle;\n",
       "    }\n",
       "\n",
       "    .dataframe tbody tr th {\n",
       "        vertical-align: top;\n",
       "    }\n",
       "\n",
       "    .dataframe thead th {\n",
       "        text-align: right;\n",
       "    }\n",
       "</style>\n",
       "<table border=\"1\" class=\"dataframe\">\n",
       "  <thead>\n",
       "    <tr style=\"text-align: right;\">\n",
       "      <th></th>\n",
       "      <th>id</th>\n",
       "      <th>episode_id</th>\n",
       "      <th>number</th>\n",
       "      <th>raw_text</th>\n",
       "      <th>timestamp_in_ms</th>\n",
       "      <th>speaking_line</th>\n",
       "      <th>character_id</th>\n",
       "      <th>location_id</th>\n",
       "      <th>raw_character_text</th>\n",
       "      <th>raw_location_text</th>\n",
       "      <th>spoken_words</th>\n",
       "      <th>normalized_text</th>\n",
       "      <th>word_count</th>\n",
       "      <th>tokenized_text</th>\n",
       "      <th>stemmed</th>\n",
       "      <th>cleared</th>\n",
       "    </tr>\n",
       "  </thead>\n",
       "  <tbody>\n",
       "    <tr>\n",
       "      <th>0</th>\n",
       "      <td>153383</td>\n",
       "      <td>549</td>\n",
       "      <td>13</td>\n",
       "      <td>Paramedic: (QUICK) No, no, no!</td>\n",
       "      <td>216000</td>\n",
       "      <td>true</td>\n",
       "      <td>2106</td>\n",
       "      <td>1.0</td>\n",
       "      <td>Paramedic</td>\n",
       "      <td>Street</td>\n",
       "      <td>No, no, no!</td>\n",
       "      <td>no no no</td>\n",
       "      <td>3.0</td>\n",
       "      <td>[Paramedic, :, (, QUICK, ), No, ,, no, ,, no, !]</td>\n",
       "      <td>paramed : ( quick ) no , no , no !</td>\n",
       "      <td>paramed quick</td>\n",
       "    </tr>\n",
       "    <tr>\n",
       "      <th>1</th>\n",
       "      <td>75417</td>\n",
       "      <td>262</td>\n",
       "      <td>46</td>\n",
       "      <td>Bart Simpson: Who are you?</td>\n",
       "      <td>305000</td>\n",
       "      <td>True</td>\n",
       "      <td>8.0</td>\n",
       "      <td>1.0</td>\n",
       "      <td>Bart Simpson</td>\n",
       "      <td>Street</td>\n",
       "      <td>Who are you?</td>\n",
       "      <td>who are you</td>\n",
       "      <td>3.0</td>\n",
       "      <td>[Bart, Simpson, :, Who, are, you, ?]</td>\n",
       "      <td>bart simpson : who are you ?</td>\n",
       "      <td>bart simpson</td>\n",
       "    </tr>\n",
       "    <tr>\n",
       "      <th>2</th>\n",
       "      <td>15824</td>\n",
       "      <td>52</td>\n",
       "      <td>267</td>\n",
       "      <td>Woman: The dryer goes on the right.</td>\n",
       "      <td>1041000</td>\n",
       "      <td>True</td>\n",
       "      <td>118.0</td>\n",
       "      <td>1.0</td>\n",
       "      <td>Woman</td>\n",
       "      <td>Street</td>\n",
       "      <td>The dryer goes on the right.</td>\n",
       "      <td>the dryer goes on the right</td>\n",
       "      <td>6.0</td>\n",
       "      <td>[Woman, :, The, dryer, goes, on, the, right, .]</td>\n",
       "      <td>woman : the dryer goe on the right .</td>\n",
       "      <td>woman dryer goe right</td>\n",
       "    </tr>\n",
       "    <tr>\n",
       "      <th>3</th>\n",
       "      <td>22111</td>\n",
       "      <td>74</td>\n",
       "      <td>230</td>\n",
       "      <td>Homer Simpson: You know, one day honest citize...</td>\n",
       "      <td>1003000</td>\n",
       "      <td>True</td>\n",
       "      <td>2.0</td>\n",
       "      <td>1.0</td>\n",
       "      <td>Homer Simpson</td>\n",
       "      <td>Street</td>\n",
       "      <td>You know, one day honest citizens are going to...</td>\n",
       "      <td>you know one day honest citizens are going to ...</td>\n",
       "      <td>15.0</td>\n",
       "      <td>[Homer, Simpson, :, You, know, ,, one, day, ho...</td>\n",
       "      <td>homer simpson : you know , one day honest citi...</td>\n",
       "      <td>homer simpson know one day honest citizen go s...</td>\n",
       "    </tr>\n",
       "    <tr>\n",
       "      <th>4</th>\n",
       "      <td>16451</td>\n",
       "      <td>54</td>\n",
       "      <td>242</td>\n",
       "      <td>Kent Brockman: Hmm huh. And I suppose you want...</td>\n",
       "      <td>1191000</td>\n",
       "      <td>True</td>\n",
       "      <td>211.0</td>\n",
       "      <td>1.0</td>\n",
       "      <td>Kent Brockman</td>\n",
       "      <td>Street</td>\n",
       "      <td>Hmm huh. And I suppose you want me to buy you ...</td>\n",
       "      <td>hmm huh and i suppose you want me to buy you a...</td>\n",
       "      <td>34.0</td>\n",
       "      <td>[Kent, Brockman, :, Hmm, huh, ., And, I, suppo...</td>\n",
       "      <td>kent brockman : hmm huh . and i suppos you wan...</td>\n",
       "      <td>kent brockman hmm huh suppos want buy new one ...</td>\n",
       "    </tr>\n",
       "    <tr>\n",
       "      <th>...</th>\n",
       "      <td>...</td>\n",
       "      <td>...</td>\n",
       "      <td>...</td>\n",
       "      <td>...</td>\n",
       "      <td>...</td>\n",
       "      <td>...</td>\n",
       "      <td>...</td>\n",
       "      <td>...</td>\n",
       "      <td>...</td>\n",
       "      <td>...</td>\n",
       "      <td>...</td>\n",
       "      <td>...</td>\n",
       "      <td>...</td>\n",
       "      <td>...</td>\n",
       "      <td>...</td>\n",
       "      <td>...</td>\n",
       "    </tr>\n",
       "    <tr>\n",
       "      <th>36922</th>\n",
       "      <td>158275</td>\n",
       "      <td>568</td>\n",
       "      <td>165</td>\n",
       "      <td>Homer Simpson: Is it even cheating?</td>\n",
       "      <td>1040000</td>\n",
       "      <td>true</td>\n",
       "      <td>2</td>\n",
       "      <td>4454.0</td>\n",
       "      <td>Homer Simpson</td>\n",
       "      <td>RIVERBOAT CASINO</td>\n",
       "      <td>Is it even cheating?</td>\n",
       "      <td>is it even cheating</td>\n",
       "      <td>4.0</td>\n",
       "      <td>[Homer, Simpson, :, Is, it, even, cheating, ?]</td>\n",
       "      <td>homer simpson : is it even cheat ?</td>\n",
       "      <td>homer simpson even cheat</td>\n",
       "    </tr>\n",
       "    <tr>\n",
       "      <th>36923</th>\n",
       "      <td>158276</td>\n",
       "      <td>568</td>\n",
       "      <td>166</td>\n",
       "      <td>SECURITY THUG #2: No, but-- it's just not allo...</td>\n",
       "      <td>1041000</td>\n",
       "      <td>true</td>\n",
       "      <td>6748</td>\n",
       "      <td>4454.0</td>\n",
       "      <td>SECURITY THUG #2</td>\n",
       "      <td>RIVERBOAT CASINO</td>\n",
       "      <td>No, but-- it's just not allowed.</td>\n",
       "      <td>no but-- its just not allowed</td>\n",
       "      <td>6.0</td>\n",
       "      <td>[SECURITY, THUG, #, 2, :, No, ,, but, --, it, ...</td>\n",
       "      <td>secur thug # 2 : no , but -- it 's just not al...</td>\n",
       "      <td>secur thug 2 allow</td>\n",
       "    </tr>\n",
       "    <tr>\n",
       "      <th>36924</th>\n",
       "      <td>158277</td>\n",
       "      <td>568</td>\n",
       "      <td>167</td>\n",
       "      <td>Homer Simpson: I don't get it. Football player...</td>\n",
       "      <td>1044000</td>\n",
       "      <td>true</td>\n",
       "      <td>2</td>\n",
       "      <td>4454.0</td>\n",
       "      <td>Homer Simpson</td>\n",
       "      <td>RIVERBOAT CASINO</td>\n",
       "      <td>I don't get it. Football players can do the qu...</td>\n",
       "      <td>i dont get it football players can do the quar...</td>\n",
       "      <td>27.0</td>\n",
       "      <td>[Homer, Simpson, :, I, do, n't, get, it, ., Fo...</td>\n",
       "      <td>homer simpson : i do n't get it . footbal play...</td>\n",
       "      <td>homer simpson n get footbal player quarterback...</td>\n",
       "    </tr>\n",
       "    <tr>\n",
       "      <th>36925</th>\n",
       "      <td>158278</td>\n",
       "      <td>568</td>\n",
       "      <td>168</td>\n",
       "      <td>SECURITY THUG #1: I can't take any more of thi...</td>\n",
       "      <td>1051000</td>\n",
       "      <td>true</td>\n",
       "      <td>6747</td>\n",
       "      <td>4454.0</td>\n",
       "      <td>SECURITY THUG #1</td>\n",
       "      <td>RIVERBOAT CASINO</td>\n",
       "      <td>I can't take any more of this guy. Get the vise.</td>\n",
       "      <td>i cant take any more of this guy get the vise</td>\n",
       "      <td>11.0</td>\n",
       "      <td>[SECURITY, THUG, #, 1, :, I, ca, n't, take, an...</td>\n",
       "      <td>secur thug # 1 : i ca n't take ani more of thi...</td>\n",
       "      <td>secur thug 1 ca n take ani guy get vise</td>\n",
       "    </tr>\n",
       "    <tr>\n",
       "      <th>36926</th>\n",
       "      <td>158279</td>\n",
       "      <td>568</td>\n",
       "      <td>169</td>\n",
       "      <td>Homer Simpson: (SMUG) I knew you had a vise! I...</td>\n",
       "      <td>1054000</td>\n",
       "      <td>true</td>\n",
       "      <td>2</td>\n",
       "      <td>4454.0</td>\n",
       "      <td>Homer Simpson</td>\n",
       "      <td>RIVERBOAT CASINO</td>\n",
       "      <td>I knew you had a vise! I knew it!</td>\n",
       "      <td>i knew you had a vise i knew it</td>\n",
       "      <td>9.0</td>\n",
       "      <td>[Homer, Simpson, :, (, SMUG, ), I, knew, you, ...</td>\n",
       "      <td>homer simpson : ( smug ) i knew you had a vise...</td>\n",
       "      <td>homer simpson smug knew vise knew</td>\n",
       "    </tr>\n",
       "  </tbody>\n",
       "</table>\n",
       "<p>36927 rows × 16 columns</p>\n",
       "</div>"
      ],
      "text/plain": [
       "           id  episode_id  number  \\\n",
       "0      153383         549      13   \n",
       "1       75417         262      46   \n",
       "2       15824          52     267   \n",
       "3       22111          74     230   \n",
       "4       16451          54     242   \n",
       "...       ...         ...     ...   \n",
       "36922  158275         568     165   \n",
       "36923  158276         568     166   \n",
       "36924  158277         568     167   \n",
       "36925  158278         568     168   \n",
       "36926  158279         568     169   \n",
       "\n",
       "                                                raw_text timestamp_in_ms  \\\n",
       "0                         Paramedic: (QUICK) No, no, no!          216000   \n",
       "1                             Bart Simpson: Who are you?          305000   \n",
       "2                    Woman: The dryer goes on the right.         1041000   \n",
       "3      Homer Simpson: You know, one day honest citize...         1003000   \n",
       "4      Kent Brockman: Hmm huh. And I suppose you want...         1191000   \n",
       "...                                                  ...             ...   \n",
       "36922                Homer Simpson: Is it even cheating?         1040000   \n",
       "36923  SECURITY THUG #2: No, but-- it's just not allo...         1041000   \n",
       "36924  Homer Simpson: I don't get it. Football player...         1044000   \n",
       "36925  SECURITY THUG #1: I can't take any more of thi...         1051000   \n",
       "36926  Homer Simpson: (SMUG) I knew you had a vise! I...         1054000   \n",
       "\n",
       "      speaking_line character_id  location_id raw_character_text  \\\n",
       "0              true         2106          1.0          Paramedic   \n",
       "1              True          8.0          1.0       Bart Simpson   \n",
       "2              True        118.0          1.0              Woman   \n",
       "3              True          2.0          1.0      Homer Simpson   \n",
       "4              True        211.0          1.0      Kent Brockman   \n",
       "...             ...          ...          ...                ...   \n",
       "36922          true            2       4454.0      Homer Simpson   \n",
       "36923          true         6748       4454.0   SECURITY THUG #2   \n",
       "36924          true            2       4454.0      Homer Simpson   \n",
       "36925          true         6747       4454.0   SECURITY THUG #1   \n",
       "36926          true            2       4454.0      Homer Simpson   \n",
       "\n",
       "      raw_location_text                                       spoken_words  \\\n",
       "0                Street                                        No, no, no!   \n",
       "1                Street                                       Who are you?   \n",
       "2                Street                       The dryer goes on the right.   \n",
       "3                Street  You know, one day honest citizens are going to...   \n",
       "4                Street  Hmm huh. And I suppose you want me to buy you ...   \n",
       "...                 ...                                                ...   \n",
       "36922  RIVERBOAT CASINO                               Is it even cheating?   \n",
       "36923  RIVERBOAT CASINO                   No, but-- it's just not allowed.   \n",
       "36924  RIVERBOAT CASINO  I don't get it. Football players can do the qu...   \n",
       "36925  RIVERBOAT CASINO   I can't take any more of this guy. Get the vise.   \n",
       "36926  RIVERBOAT CASINO                  I knew you had a vise! I knew it!   \n",
       "\n",
       "                                         normalized_text  word_count  \\\n",
       "0                                               no no no         3.0   \n",
       "1                                            who are you         3.0   \n",
       "2                            the dryer goes on the right         6.0   \n",
       "3      you know one day honest citizens are going to ...        15.0   \n",
       "4      hmm huh and i suppose you want me to buy you a...        34.0   \n",
       "...                                                  ...         ...   \n",
       "36922                                is it even cheating         4.0   \n",
       "36923                      no but-- its just not allowed         6.0   \n",
       "36924  i dont get it football players can do the quar...        27.0   \n",
       "36925      i cant take any more of this guy get the vise        11.0   \n",
       "36926                    i knew you had a vise i knew it         9.0   \n",
       "\n",
       "                                          tokenized_text  \\\n",
       "0       [Paramedic, :, (, QUICK, ), No, ,, no, ,, no, !]   \n",
       "1                   [Bart, Simpson, :, Who, are, you, ?]   \n",
       "2        [Woman, :, The, dryer, goes, on, the, right, .]   \n",
       "3      [Homer, Simpson, :, You, know, ,, one, day, ho...   \n",
       "4      [Kent, Brockman, :, Hmm, huh, ., And, I, suppo...   \n",
       "...                                                  ...   \n",
       "36922     [Homer, Simpson, :, Is, it, even, cheating, ?]   \n",
       "36923  [SECURITY, THUG, #, 2, :, No, ,, but, --, it, ...   \n",
       "36924  [Homer, Simpson, :, I, do, n't, get, it, ., Fo...   \n",
       "36925  [SECURITY, THUG, #, 1, :, I, ca, n't, take, an...   \n",
       "36926  [Homer, Simpson, :, (, SMUG, ), I, knew, you, ...   \n",
       "\n",
       "                                                 stemmed  \\\n",
       "0                     paramed : ( quick ) no , no , no !   \n",
       "1                           bart simpson : who are you ?   \n",
       "2                   woman : the dryer goe on the right .   \n",
       "3      homer simpson : you know , one day honest citi...   \n",
       "4      kent brockman : hmm huh . and i suppos you wan...   \n",
       "...                                                  ...   \n",
       "36922                 homer simpson : is it even cheat ?   \n",
       "36923  secur thug # 2 : no , but -- it 's just not al...   \n",
       "36924  homer simpson : i do n't get it . footbal play...   \n",
       "36925  secur thug # 1 : i ca n't take ani more of thi...   \n",
       "36926  homer simpson : ( smug ) i knew you had a vise...   \n",
       "\n",
       "                                                 cleared  \n",
       "0                                          paramed quick  \n",
       "1                                           bart simpson  \n",
       "2                                  woman dryer goe right  \n",
       "3      homer simpson know one day honest citizen go s...  \n",
       "4      kent brockman hmm huh suppos want buy new one ...  \n",
       "...                                                  ...  \n",
       "36922                           homer simpson even cheat  \n",
       "36923                                 secur thug 2 allow  \n",
       "36924  homer simpson n get footbal player quarterback...  \n",
       "36925            secur thug 1 ca n take ani guy get vise  \n",
       "36926                  homer simpson smug knew vise knew  \n",
       "\n",
       "[36927 rows x 16 columns]"
      ]
     },
     "execution_count": 13,
     "metadata": {},
     "output_type": "execute_result"
    }
   ],
   "source": [
    "df"
   ]
  },
  {
   "cell_type": "code",
   "execution_count": 14,
   "id": "540bbf5e-799a-453e-87b5-70c4724ed225",
   "metadata": {},
   "outputs": [],
   "source": [
    "from sklearn import preprocessing\n",
    "le = preprocessing.LabelEncoder()\n",
    "\n",
    "test_size = 0.2\n",
    "\n",
    "df['class'] = le.fit_transform(df['location_id'])\n",
    "df['class'] = le.fit_transform(df['location_id'])\n",
    "\n",
    "le = preprocessing.LabelEncoder()\n",
    "df['speaking_line'].apply(lambda x: str(x).lower())\n",
    "df['speaking_line'] = le.fit_transform(df['speaking_line'].astype(str))\n",
    "\n",
    "DF_train, DF_test = train_test_split(df, test_size=test_size, random_state=42)\n",
    "vectorizer = TfidfVectorizer(min_df=0.00009, smooth_idf=True, norm=\"l2\", tokenizer=lambda x: x.split(\" \"),\n",
    "                             sublinear_tf=False, ngram_range=(1, 1))\n",
    "\n",
    "\n",
    "X_train = vectorizer.fit_transform(DF_train['cleared']).todense()\n",
    "X_test = vectorizer.transform(DF_test['cleared']).todense()\n"
   ]
  },
  {
   "cell_type": "markdown",
   "id": "64b1abe8-b2ca-4386-b082-78b827ff661a",
   "metadata": {},
   "source": [
    "### I combine our TFIDF + The other features which are correlated ( but it didn't improve the learning so i deleted them )  "
   ]
  },
  {
   "cell_type": "code",
   "execution_count": 15,
   "id": "07df152d-edb6-46e4-a4ce-b60c4ba1621a",
   "metadata": {},
   "outputs": [
    {
     "name": "stdout",
     "output_type": "stream",
     "text": [
      "(29541, 6526)\n",
      "(7386, 6526)\n",
      "(29541,)\n",
      "(29541, 6526)\n",
      "(7386, 6526)\n",
      "(29541, 6526)\n"
     ]
    }
   ],
   "source": [
    "import numpy as np\n",
    "# character_id, speaking_line, timestap_in_ms\n",
    "print(X_train.shape)\n",
    "print(X_test.shape)\n",
    "print(DF_train['character_id'].values.shape)\n",
    "#X_train = np.c_[X_train, DF_train['character_id'].values, DF_train['timestamp_in_ms'].values, DF_train['speaking_line'].values]\n",
    "#X_test = np.c_[X_test, DF_test['character_id'].values, DF_test['timestamp_in_ms'].values, DF_test['speaking_line'].values]\n",
    "\n",
    "y_train, y_test = DF_train['class'], DF_test['class']\n",
    "\n",
    "print(X_train.shape)\n",
    "print(X_test.shape)\n",
    "print(X_train.shape)"
   ]
  },
  {
   "cell_type": "code",
   "execution_count": 16,
   "id": "cb732d95-d5f0-4a46-969b-54e204e1d19b",
   "metadata": {},
   "outputs": [
    {
     "name": "stdout",
     "output_type": "stream",
     "text": [
      "1188\n"
     ]
    }
   ],
   "source": [
    "print(len(y_train.unique()))"
   ]
  },
  {
   "cell_type": "markdown",
   "id": "dc94a15d-dab7-4198-9ab7-e9b3f96c2f7f",
   "metadata": {},
   "source": [
    "# Baseline Models :\n",
    "I will implemet in a first step baseline models, to try to avoid bigger models that are computing heavy and to get the best ratio size or computing time / precision.\n",
    "I did not train all of them because they take quite some time to, but i mentioned the code to do so and test the usual models used in this context.\n",
    "## Naive Bayes : "
   ]
  },
  {
   "cell_type": "code",
   "execution_count": 17,
   "id": "6725681e-4c60-4a94-841c-d64fb375e06d",
   "metadata": {},
   "outputs": [
    {
     "data": {
      "text/plain": [
       "MultinomialNB()"
      ]
     },
     "execution_count": 17,
     "metadata": {},
     "output_type": "execute_result"
    }
   ],
   "source": [
    "from sklearn.naive_bayes import MultinomialNB\n",
    "from sklearn.metrics import precision_score\n",
    "\n",
    "clf = MultinomialNB()\n",
    "clf.fit(X_train, y_train)"
   ]
  },
  {
   "cell_type": "code",
   "execution_count": 18,
   "id": "14552e3d-a17d-46ef-ac3f-a0d79d550521",
   "metadata": {},
   "outputs": [],
   "source": [
    "predictions = clf.predict(X_test)"
   ]
  },
  {
   "cell_type": "markdown",
   "id": "0abb175c-e086-4a67-bbbd-a349071c01e6",
   "metadata": {},
   "source": [
    "# Metrics :\n",
    "Because the data isn't from the beginning balanced adapted my metrics, for that i'm using a combination of precision and f1 score weighted by the class distribution."
   ]
  },
  {
   "cell_type": "code",
   "execution_count": 19,
   "id": "f6e51051-1502-4762-b63f-11b0d4ccd6ba",
   "metadata": {},
   "outputs": [
    {
     "name": "stdout",
     "output_type": "stream",
     "text": [
      "0.17768845118338927\n"
     ]
    },
    {
     "name": "stderr",
     "output_type": "stream",
     "text": [
      "c:\\users\\ray\\documents\\shhh\\env\\lib\\site-packages\\sklearn\\metrics\\_classification.py:1248: UndefinedMetricWarning: Precision and F-score are ill-defined and being set to 0.0 in labels with no predicted samples. Use `zero_division` parameter to control this behavior.\n",
      "  _warn_prf(average, modifier, msg_start, len(result))\n",
      "c:\\users\\ray\\documents\\shhh\\env\\lib\\site-packages\\sklearn\\metrics\\_classification.py:1248: UndefinedMetricWarning: Precision is ill-defined and being set to 0.0 in labels with no predicted samples. Use `zero_division` parameter to control this behavior.\n",
      "  _warn_prf(average, modifier, msg_start, len(result))\n"
     ]
    }
   ],
   "source": [
    "from sklearn.metrics import precision_recall_fscore_support\n",
    "from sklearn.metrics import precision_score\n",
    "\n",
    "scores = precision_recall_fscore_support(y_test, predictions, average='weighted')\n",
    "precision = precision_score(y_test, predictions, average='weighted')\n",
    "print(precision)"
   ]
  },
  {
   "cell_type": "markdown",
   "id": "eafdbb81-f78a-4a8d-bb04-da770bff4925",
   "metadata": {},
   "source": [
    "## Those scores are a beginning but not that good i need to look for more."
   ]
  },
  {
   "cell_type": "code",
   "execution_count": 20,
   "id": "0c8cc44b-f1aa-4c95-8740-6a837236d5df",
   "metadata": {},
   "outputs": [
    {
     "name": "stdout",
     "output_type": "stream",
     "text": [
      "(0.17768845118338927, 0.11751963173571622, 0.10713201205608545, None)\n"
     ]
    }
   ],
   "source": [
    "print(scores)"
   ]
  },
  {
   "cell_type": "markdown",
   "id": "c0386f5e-6ce7-4743-8cd7-e9757cd71b5a",
   "metadata": {},
   "source": [
    "## SGD CLassifier : "
   ]
  },
  {
   "cell_type": "code",
   "execution_count": null,
   "id": "ed7b5800-4996-498e-8387-9c4d950bf2f3",
   "metadata": {},
   "outputs": [],
   "source": [
    "from sklearn.linear_model import SGDClassifier\n",
    "\n",
    "clf = SGDClassifier(n_iter=1, tol=1e-3, verbose=1)\n",
    "clf.fit(X_train, y_train)"
   ]
  },
  {
   "cell_type": "code",
   "execution_count": null,
   "id": "0a542c66-c820-46a0-8453-d3bf3cbff092",
   "metadata": {},
   "outputs": [],
   "source": [
    "predictions = clf.predict(X_test)"
   ]
  },
  {
   "cell_type": "code",
   "execution_count": null,
   "id": "4a1aa3c7-9ef1-41fa-9f01-3e29bd8cc499",
   "metadata": {},
   "outputs": [],
   "source": [
    "scores = precision_recall_fscore_support(y_test, predictions, average='weighted')\n",
    "precision = precision_score(y_test, predictions, average='weighted')\n",
    "print(precision)\n",
    "print(scores)"
   ]
  },
  {
   "cell_type": "markdown",
   "id": "f73bac8b-4d58-4302-93c1-5d071ab29dd0",
   "metadata": {},
   "source": [
    "## Decision Tree : ( which are usually efficient on uneven dataset )"
   ]
  },
  {
   "cell_type": "code",
   "execution_count": null,
   "id": "e799f8ed-2b0b-4ac7-8865-c4db402e433f",
   "metadata": {},
   "outputs": [],
   "source": [
    "from sklearn.tree import DecisionTreeClassifier\n",
    "\n",
    "clf = DecisionTreeClassifier(random_state=0)\n",
    "clf.fit(X_train, y_train)"
   ]
  },
  {
   "cell_type": "code",
   "execution_count": null,
   "id": "effe084f-0424-48a6-968d-06f9f257a0d8",
   "metadata": {},
   "outputs": [],
   "source": [
    "predictions = clf.predict(X_test)"
   ]
  },
  {
   "cell_type": "code",
   "execution_count": null,
   "id": "1cda3560-49e2-430f-bcf1-143067d997ae",
   "metadata": {},
   "outputs": [],
   "source": [
    "scores = precision_recall_fscore_support(y_test, predictions, average='weighted')\n",
    "precision = precision_score(y_test, predictions, average='weighted')\n",
    "print(precision)\n",
    "print(scores)"
   ]
  },
  {
   "cell_type": "markdown",
   "id": "70fc8d6f-78f8-419d-bca7-f26f224f18cd",
   "metadata": {},
   "source": [
    "## AdaBoost"
   ]
  },
  {
   "cell_type": "code",
   "execution_count": null,
   "id": "b60e43d0-29a4-42ad-a095-6ff0f0983f18",
   "metadata": {},
   "outputs": [],
   "source": [
    "from sklearn.ensemble import AdaBoostClassifier\n",
    "clf = AdaBoostClassifier(n_estimators=100, random_state=42)"
   ]
  },
  {
   "cell_type": "code",
   "execution_count": null,
   "id": "287baccf-5983-4058-8811-667bb343adc8",
   "metadata": {},
   "outputs": [],
   "source": [
    "clf.fit(X_train, y_train)"
   ]
  },
  {
   "cell_type": "code",
   "execution_count": null,
   "id": "8aa9f6c2-4202-4cc0-b1f8-9b532fa97e51",
   "metadata": {},
   "outputs": [],
   "source": [
    "predictions = clf.predict(X_test)"
   ]
  },
  {
   "cell_type": "code",
   "execution_count": null,
   "id": "66e52d58-9d0a-4379-8b22-290704e7e005",
   "metadata": {},
   "outputs": [],
   "source": [
    "scores = precision_recall_fscore_support(y_test, predictions, average='weighted')\n",
    "precision = precision_score(y_test, predictions, average='weighted')\n",
    "print(precision)\n",
    "print(scores)"
   ]
  },
  {
   "cell_type": "markdown",
   "id": "2daa66b1-9a19-4f25-ad92-996f5b05d774",
   "metadata": {},
   "source": [
    "# Deep Learning\n",
    "### One-Hot-Encoding :\n",
    "Our output is categorical but with a large number of classes which might lead to difficulties for a single output neuron to approximate it with precision, transforming it to a OneHot format help to split the training gradient and focus it on independant and individual classes without impacting the others and usually it helps improving the final accuracy.\n",
    "\n",
    "### Architecture :\n",
    "I did a lot of finetuning : training multiple architectures small ones, biggers ones ... i didn't aim for really big architecture because the dataset isn't that big and the best results i got were with this last one. I used a MLP because it's the appropriate structure for TF-IDF."
   ]
  },
  {
   "cell_type": "code",
   "execution_count": 36,
   "id": "5ddab3ed-af1d-4000-96bc-b1736118db65",
   "metadata": {},
   "outputs": [
    {
     "name": "stdout",
     "output_type": "stream",
     "text": [
      "number of classes : 1188\n",
      "targets shape : torch.Size([29541])\n",
      "y_ train tensor : torch.Size([29541, 1188])\n"
     ]
    }
   ],
   "source": [
    "import torch\n",
    "import torch.nn as nn\n",
    "import matplotlib.pyplot as plt \n",
    "from torch import optim\n",
    "from IPython.display import clear_output\n",
    "import numpy as np\n",
    "import torch.nn.functional as F\n",
    "\n",
    "\n",
    "if torch.cuda.is_available():  \n",
    "  dev = \"cuda:0\" \n",
    "else:  \n",
    "  dev = \"cpu\"  \n",
    "device = torch.device(dev)  \n",
    "device = \"cpu\"\n",
    "\n",
    "\n",
    "nb_class = len(y_train.unique())\n",
    "print(\"number of classes : \"+str(nb_class))\n",
    "\n",
    "\n",
    "\n",
    "\n",
    "X_train_t = torch.from_numpy(X_train.astype(np.float32)).to(device)\n",
    "y_train_tensor = torch.tensor(y_train.values.astype(np.int32),dtype=torch.long)\n",
    "y_train_tensor = F.one_hot(y_train_tensor).to(device)\n",
    "_, targets = y_train_tensor.max(dim=1)\n",
    "targets = targets.to(device)\n",
    "\n",
    "\n",
    "\n",
    "X_test_t = torch.from_numpy(X_test.astype(np.float32)).to(device)\n",
    "y_test_tensor = torch.tensor(y_test.values.astype(np.int32),dtype=torch.long)\n",
    "y_test_tensor = F.one_hot(y_test_tensor).to(device)\n",
    "_, targets_test = y_test_tensor.max(dim=1)\n",
    "target_tests = targets_test.to(device)\n",
    "\n",
    "\n",
    "print(\"targets shape : \"+str(targets.shape))\n",
    "print(\"y_ train tensor : \"+str(y_train_tensor.shape))\n",
    "\n"
   ]
  },
  {
   "cell_type": "code",
   "execution_count": 43,
   "id": "2f725a4a-83ff-4f65-8a8f-5c064e01a4aa",
   "metadata": {},
   "outputs": [
    {
     "name": "stdout",
     "output_type": "stream",
     "text": [
      "Test precision : 0.06785166065170099\n"
     ]
    },
    {
     "name": "stderr",
     "output_type": "stream",
     "text": [
      "c:\\users\\ray\\documents\\shhh\\env\\lib\\site-packages\\sklearn\\metrics\\_classification.py:1248: UndefinedMetricWarning: Precision is ill-defined and being set to 0.0 in labels with no predicted samples. Use `zero_division` parameter to control this behavior.\n",
      "  _warn_prf(average, modifier, msg_start, len(result))\n"
     ]
    },
    {
     "data": {
      "image/png": "[encoded data removed]",
      "text/plain": [
       "<Figure size 1440x595.44 with 1 Axes>"
      ]
     },
     "metadata": {},
     "output_type": "display_data"
    },
    {
     "data": {
      "image/png": "[encoded data removed]",
      "text/plain": [
       "<Figure size 1440x595.44 with 1 Axes>"
      ]
     },
     "metadata": {},
     "output_type": "display_data"
    }
   ],
   "source": [
    "from sklearn.metrics import f1_score\n",
    "\n",
    "model = nn.Sequential(\n",
    "                nn.Linear(X_train.shape[1], 200),\n",
    "                nn.ReLU(),\n",
    "                nn.Linear(200, 100),\n",
    "                nn.ReLU(),\n",
    "                nn.Linear(100, 60),\n",
    "                nn.ReLU(),\n",
    "                nn.Linear(60, 40),\n",
    "                nn.ReLU(),\n",
    "                nn.Linear(40, nb_class),\n",
    "                nn.LogSoftmax(dim=1))\n",
    "criterion = nn.CrossEntropyLoss()\n",
    "optimizer = optim.Adam(model.parameters(), lr=0.005)\n",
    "train_losses = []\n",
    "test_losses = []\n",
    "\n",
    "f1s = []\n",
    "\n",
    "epochs = 400\n",
    "for e in range(epochs):\n",
    "    clear_output(wait=True)\n",
    "    optimizer.zero_grad()\n",
    "    output = model.forward(X_train_t)\n",
    "    loss = criterion(output, targets)\n",
    "    loss.backward()\n",
    "    optimizer.step()\n",
    "    \n",
    "    with torch.no_grad():\n",
    "        model.eval()\n",
    "        log_ps = model(X_test_t)\n",
    "        test_loss = criterion(log_ps, target_tests)\n",
    "        reverted = torch.argmax(log_ps, dim=1)\n",
    "        test_accuracy = precision_score(targets_test, reverted, average='weighted')\n",
    "        f1_s = f1_score(targets_test, reverted, average='weighted')\n",
    "        print(\"Test precision : \"+str(test_accuracy))\n",
    "        test_losses.append(test_accuracy)\n",
    "        f1s.append(f1_s)\n",
    "    fig = plt.figure()\n",
    "    plt.plot(test_losses)\n",
    "    fig.suptitle('test_accuracies', fontsize=20)\n",
    "    plt.show()\n",
    "    \n",
    "    fig = plt.figure()\n",
    "    plt.plot(f1s)\n",
    "    fig.suptitle('test_f1_score', fontsize=20)\n",
    "    plt.show()\n"
   ]
  },
  {
   "cell_type": "markdown",
   "id": "6a0337d6-5c88-4e94-ab8e-25bb02ba5e55",
   "metadata": {},
   "source": [
    "### I did not get good results but that might be improved by using the initial distribution and creating separate models : one fort the main characters of the show and one for the side characters ( or even a third one for characters which appears only one episode )"
   ]
  },
  {
   "cell_type": "markdown",
   "id": "bb027181-9075-4a98-8b66-d39dd109c0e0",
   "metadata": {},
   "source": [
    "## Second Approach : Feature Reduction"
   ]
  },
  {
   "cell_type": "code",
   "execution_count": 19,
   "id": "d763fd88-7757-4a9d-b059-4e791c4f0fbe",
   "metadata": {},
   "outputs": [
    {
     "name": "stdout",
     "output_type": "stream",
     "text": [
      "(29541, 6522)\n",
      "[0.01630644 0.01027893 0.00888532 0.00841243 0.00627937 0.00509493\n",
      " 0.00496001 0.00475581 0.00440494 0.0042779 ]\n"
     ]
    }
   ],
   "source": [
    "print(X_train.shape)\n",
    "from sklearn.decomposition import PCA\n",
    "\n",
    "pca = PCA(n_components=10)\n",
    "X_train_pca = pca.fit_transform(X_train)\n",
    "print(pca.explained_variance_ratio_)\n",
    "X_test_pca = pca.transform(X_test)"
   ]
  },
  {
   "cell_type": "markdown",
   "id": "3b54413e-feaa-4da1-8318-4b4d57741b95",
   "metadata": {},
   "source": [
    "## Not Enough Explained Variance Ratio ( previsible ) might use Latent semantic indexing"
   ]
  },
  {
   "cell_type": "markdown",
   "id": "1c06b1c8-482f-42eb-83ab-51c7ba21fc44",
   "metadata": {},
   "source": [
    "## Third Approach : Word-Embedding\n",
    "A second approach would be to use to remplace TF-IDF a word-embedding, for example Word2Vec is a model trained on :\n",
    "CBOW: The model is fed by the context, and predicts the target word. The result of the hidden layer is the new representation of the word (ℎ1,…, ℎ𝑁).\n",
    "\n",
    "Skip Gram: The model is fed by the target word, and predicts the words of the context. The result of the hidden layer is the new representation of the word (ℎ1,…, ℎ𝑁).\n",
    "\n",
    "This permits the creation of an embedding vector which represents a spatial/dimensional representation of each of our words. And this will be used for training a neural network."
   ]
  },
  {
   "cell_type": "code",
   "execution_count": 17,
   "id": "e1c205ff-ee52-4f84-ad1f-7e6dff135db6",
   "metadata": {},
   "outputs": [
    {
     "data": {
      "text/html": [
       "<div>\n",
       "<style scoped>\n",
       "    .dataframe tbody tr th:only-of-type {\n",
       "        vertical-align: middle;\n",
       "    }\n",
       "\n",
       "    .dataframe tbody tr th {\n",
       "        vertical-align: top;\n",
       "    }\n",
       "\n",
       "    .dataframe thead th {\n",
       "        text-align: right;\n",
       "    }\n",
       "</style>\n",
       "<table border=\"1\" class=\"dataframe\">\n",
       "  <thead>\n",
       "    <tr style=\"text-align: right;\">\n",
       "      <th></th>\n",
       "      <th>id</th>\n",
       "      <th>episode_id</th>\n",
       "      <th>number</th>\n",
       "      <th>raw_text</th>\n",
       "      <th>timestamp_in_ms</th>\n",
       "      <th>speaking_line</th>\n",
       "      <th>character_id</th>\n",
       "      <th>location_id</th>\n",
       "      <th>raw_character_text</th>\n",
       "      <th>raw_location_text</th>\n",
       "      <th>spoken_words</th>\n",
       "      <th>normalized_text</th>\n",
       "      <th>word_count</th>\n",
       "      <th>tokenized_text</th>\n",
       "      <th>stemmed</th>\n",
       "      <th>cleared</th>\n",
       "      <th>class</th>\n",
       "    </tr>\n",
       "  </thead>\n",
       "  <tbody>\n",
       "    <tr>\n",
       "      <th>0</th>\n",
       "      <td>153383</td>\n",
       "      <td>549</td>\n",
       "      <td>13</td>\n",
       "      <td>Paramedic: (QUICK) No, no, no!</td>\n",
       "      <td>216000</td>\n",
       "      <td>1</td>\n",
       "      <td>2106</td>\n",
       "      <td>1.0</td>\n",
       "      <td>Paramedic</td>\n",
       "      <td>Street</td>\n",
       "      <td>No, no, no!</td>\n",
       "      <td>no no no</td>\n",
       "      <td>3.0</td>\n",
       "      <td>[Paramedic, :, (, QUICK, ), No, ,, no, ,, no, !]</td>\n",
       "      <td>paramed : ( quick ) no , no , no !</td>\n",
       "      <td>paramed quick</td>\n",
       "      <td>0</td>\n",
       "    </tr>\n",
       "    <tr>\n",
       "      <th>1</th>\n",
       "      <td>75417</td>\n",
       "      <td>262</td>\n",
       "      <td>46</td>\n",
       "      <td>Bart Simpson: Who are you?</td>\n",
       "      <td>305000</td>\n",
       "      <td>0</td>\n",
       "      <td>8.0</td>\n",
       "      <td>1.0</td>\n",
       "      <td>Bart Simpson</td>\n",
       "      <td>Street</td>\n",
       "      <td>Who are you?</td>\n",
       "      <td>who are you</td>\n",
       "      <td>3.0</td>\n",
       "      <td>[Bart, Simpson, :, Who, are, you, ?]</td>\n",
       "      <td>bart simpson : who are you ?</td>\n",
       "      <td>bart simpson</td>\n",
       "      <td>0</td>\n",
       "    </tr>\n",
       "    <tr>\n",
       "      <th>2</th>\n",
       "      <td>15824</td>\n",
       "      <td>52</td>\n",
       "      <td>267</td>\n",
       "      <td>Woman: The dryer goes on the right.</td>\n",
       "      <td>1041000</td>\n",
       "      <td>0</td>\n",
       "      <td>118.0</td>\n",
       "      <td>1.0</td>\n",
       "      <td>Woman</td>\n",
       "      <td>Street</td>\n",
       "      <td>The dryer goes on the right.</td>\n",
       "      <td>the dryer goes on the right</td>\n",
       "      <td>6.0</td>\n",
       "      <td>[Woman, :, The, dryer, goes, on, the, right, .]</td>\n",
       "      <td>woman : the dryer goe on the right .</td>\n",
       "      <td>woman dryer goe right</td>\n",
       "      <td>0</td>\n",
       "    </tr>\n",
       "    <tr>\n",
       "      <th>3</th>\n",
       "      <td>22111</td>\n",
       "      <td>74</td>\n",
       "      <td>230</td>\n",
       "      <td>Homer Simpson: You know, one day honest citize...</td>\n",
       "      <td>1003000</td>\n",
       "      <td>0</td>\n",
       "      <td>2.0</td>\n",
       "      <td>1.0</td>\n",
       "      <td>Homer Simpson</td>\n",
       "      <td>Street</td>\n",
       "      <td>You know, one day honest citizens are going to...</td>\n",
       "      <td>you know one day honest citizens are going to ...</td>\n",
       "      <td>15.0</td>\n",
       "      <td>[Homer, Simpson, :, You, know, ,, one, day, ho...</td>\n",
       "      <td>homer simpson : you know , one day honest citi...</td>\n",
       "      <td>homer simpson know one day honest citizen go s...</td>\n",
       "      <td>0</td>\n",
       "    </tr>\n",
       "    <tr>\n",
       "      <th>4</th>\n",
       "      <td>16451</td>\n",
       "      <td>54</td>\n",
       "      <td>242</td>\n",
       "      <td>Kent Brockman: Hmm huh. And I suppose you want...</td>\n",
       "      <td>1191000</td>\n",
       "      <td>0</td>\n",
       "      <td>211.0</td>\n",
       "      <td>1.0</td>\n",
       "      <td>Kent Brockman</td>\n",
       "      <td>Street</td>\n",
       "      <td>Hmm huh. And I suppose you want me to buy you ...</td>\n",
       "      <td>hmm huh and i suppose you want me to buy you a...</td>\n",
       "      <td>34.0</td>\n",
       "      <td>[Kent, Brockman, :, Hmm, huh, ., And, I, suppo...</td>\n",
       "      <td>kent brockman : hmm huh . and i suppos you wan...</td>\n",
       "      <td>kent brockman hmm huh suppos want buy new one ...</td>\n",
       "      <td>0</td>\n",
       "    </tr>\n",
       "    <tr>\n",
       "      <th>...</th>\n",
       "      <td>...</td>\n",
       "      <td>...</td>\n",
       "      <td>...</td>\n",
       "      <td>...</td>\n",
       "      <td>...</td>\n",
       "      <td>...</td>\n",
       "      <td>...</td>\n",
       "      <td>...</td>\n",
       "      <td>...</td>\n",
       "      <td>...</td>\n",
       "      <td>...</td>\n",
       "      <td>...</td>\n",
       "      <td>...</td>\n",
       "      <td>...</td>\n",
       "      <td>...</td>\n",
       "      <td>...</td>\n",
       "      <td>...</td>\n",
       "    </tr>\n",
       "    <tr>\n",
       "      <th>36922</th>\n",
       "      <td>158275</td>\n",
       "      <td>568</td>\n",
       "      <td>165</td>\n",
       "      <td>Homer Simpson: Is it even cheating?</td>\n",
       "      <td>1040000</td>\n",
       "      <td>1</td>\n",
       "      <td>2</td>\n",
       "      <td>4454.0</td>\n",
       "      <td>Homer Simpson</td>\n",
       "      <td>RIVERBOAT CASINO</td>\n",
       "      <td>Is it even cheating?</td>\n",
       "      <td>is it even cheating</td>\n",
       "      <td>4.0</td>\n",
       "      <td>[Homer, Simpson, :, Is, it, even, cheating, ?]</td>\n",
       "      <td>homer simpson : is it even cheat ?</td>\n",
       "      <td>homer simpson even cheat</td>\n",
       "      <td>1187</td>\n",
       "    </tr>\n",
       "    <tr>\n",
       "      <th>36923</th>\n",
       "      <td>158276</td>\n",
       "      <td>568</td>\n",
       "      <td>166</td>\n",
       "      <td>SECURITY THUG #2: No, but-- it's just not allo...</td>\n",
       "      <td>1041000</td>\n",
       "      <td>1</td>\n",
       "      <td>6748</td>\n",
       "      <td>4454.0</td>\n",
       "      <td>SECURITY THUG #2</td>\n",
       "      <td>RIVERBOAT CASINO</td>\n",
       "      <td>No, but-- it's just not allowed.</td>\n",
       "      <td>no but-- its just not allowed</td>\n",
       "      <td>6.0</td>\n",
       "      <td>[SECURITY, THUG, #, 2, :, No, ,, but, --, it, ...</td>\n",
       "      <td>secur thug # 2 : no , but -- it 's just not al...</td>\n",
       "      <td>secur thug 2 allow</td>\n",
       "      <td>1187</td>\n",
       "    </tr>\n",
       "    <tr>\n",
       "      <th>36924</th>\n",
       "      <td>158277</td>\n",
       "      <td>568</td>\n",
       "      <td>167</td>\n",
       "      <td>Homer Simpson: I don't get it. Football player...</td>\n",
       "      <td>1044000</td>\n",
       "      <td>1</td>\n",
       "      <td>2</td>\n",
       "      <td>4454.0</td>\n",
       "      <td>Homer Simpson</td>\n",
       "      <td>RIVERBOAT CASINO</td>\n",
       "      <td>I don't get it. Football players can do the qu...</td>\n",
       "      <td>i dont get it football players can do the quar...</td>\n",
       "      <td>27.0</td>\n",
       "      <td>[Homer, Simpson, :, I, do, n't, get, it, ., Fo...</td>\n",
       "      <td>homer simpson : i do n't get it . footbal play...</td>\n",
       "      <td>homer simpson n get footbal player quarterback...</td>\n",
       "      <td>1187</td>\n",
       "    </tr>\n",
       "    <tr>\n",
       "      <th>36925</th>\n",
       "      <td>158278</td>\n",
       "      <td>568</td>\n",
       "      <td>168</td>\n",
       "      <td>SECURITY THUG #1: I can't take any more of thi...</td>\n",
       "      <td>1051000</td>\n",
       "      <td>1</td>\n",
       "      <td>6747</td>\n",
       "      <td>4454.0</td>\n",
       "      <td>SECURITY THUG #1</td>\n",
       "      <td>RIVERBOAT CASINO</td>\n",
       "      <td>I can't take any more of this guy. Get the vise.</td>\n",
       "      <td>i cant take any more of this guy get the vise</td>\n",
       "      <td>11.0</td>\n",
       "      <td>[SECURITY, THUG, #, 1, :, I, ca, n't, take, an...</td>\n",
       "      <td>secur thug # 1 : i ca n't take ani more of thi...</td>\n",
       "      <td>secur thug 1 ca n take ani guy get vise</td>\n",
       "      <td>1187</td>\n",
       "    </tr>\n",
       "    <tr>\n",
       "      <th>36926</th>\n",
       "      <td>158279</td>\n",
       "      <td>568</td>\n",
       "      <td>169</td>\n",
       "      <td>Homer Simpson: (SMUG) I knew you had a vise! I...</td>\n",
       "      <td>1054000</td>\n",
       "      <td>1</td>\n",
       "      <td>2</td>\n",
       "      <td>4454.0</td>\n",
       "      <td>Homer Simpson</td>\n",
       "      <td>RIVERBOAT CASINO</td>\n",
       "      <td>I knew you had a vise! I knew it!</td>\n",
       "      <td>i knew you had a vise i knew it</td>\n",
       "      <td>9.0</td>\n",
       "      <td>[Homer, Simpson, :, (, SMUG, ), I, knew, you, ...</td>\n",
       "      <td>homer simpson : ( smug ) i knew you had a vise...</td>\n",
       "      <td>homer simpson smug knew vise knew</td>\n",
       "      <td>1187</td>\n",
       "    </tr>\n",
       "  </tbody>\n",
       "</table>\n",
       "<p>36927 rows × 17 columns</p>\n",
       "</div>"
      ],
      "text/plain": [
       "           id  episode_id  number  \\\n",
       "0      153383         549      13   \n",
       "1       75417         262      46   \n",
       "2       15824          52     267   \n",
       "3       22111          74     230   \n",
       "4       16451          54     242   \n",
       "...       ...         ...     ...   \n",
       "36922  158275         568     165   \n",
       "36923  158276         568     166   \n",
       "36924  158277         568     167   \n",
       "36925  158278         568     168   \n",
       "36926  158279         568     169   \n",
       "\n",
       "                                                raw_text timestamp_in_ms  \\\n",
       "0                         Paramedic: (QUICK) No, no, no!          216000   \n",
       "1                             Bart Simpson: Who are you?          305000   \n",
       "2                    Woman: The dryer goes on the right.         1041000   \n",
       "3      Homer Simpson: You know, one day honest citize...         1003000   \n",
       "4      Kent Brockman: Hmm huh. And I suppose you want...         1191000   \n",
       "...                                                  ...             ...   \n",
       "36922                Homer Simpson: Is it even cheating?         1040000   \n",
       "36923  SECURITY THUG #2: No, but-- it's just not allo...         1041000   \n",
       "36924  Homer Simpson: I don't get it. Football player...         1044000   \n",
       "36925  SECURITY THUG #1: I can't take any more of thi...         1051000   \n",
       "36926  Homer Simpson: (SMUG) I knew you had a vise! I...         1054000   \n",
       "\n",
       "       speaking_line character_id  location_id raw_character_text  \\\n",
       "0                  1         2106          1.0          Paramedic   \n",
       "1                  0          8.0          1.0       Bart Simpson   \n",
       "2                  0        118.0          1.0              Woman   \n",
       "3                  0          2.0          1.0      Homer Simpson   \n",
       "4                  0        211.0          1.0      Kent Brockman   \n",
       "...              ...          ...          ...                ...   \n",
       "36922              1            2       4454.0      Homer Simpson   \n",
       "36923              1         6748       4454.0   SECURITY THUG #2   \n",
       "36924              1            2       4454.0      Homer Simpson   \n",
       "36925              1         6747       4454.0   SECURITY THUG #1   \n",
       "36926              1            2       4454.0      Homer Simpson   \n",
       "\n",
       "      raw_location_text                                       spoken_words  \\\n",
       "0                Street                                        No, no, no!   \n",
       "1                Street                                       Who are you?   \n",
       "2                Street                       The dryer goes on the right.   \n",
       "3                Street  You know, one day honest citizens are going to...   \n",
       "4                Street  Hmm huh. And I suppose you want me to buy you ...   \n",
       "...                 ...                                                ...   \n",
       "36922  RIVERBOAT CASINO                               Is it even cheating?   \n",
       "36923  RIVERBOAT CASINO                   No, but-- it's just not allowed.   \n",
       "36924  RIVERBOAT CASINO  I don't get it. Football players can do the qu...   \n",
       "36925  RIVERBOAT CASINO   I can't take any more of this guy. Get the vise.   \n",
       "36926  RIVERBOAT CASINO                  I knew you had a vise! I knew it!   \n",
       "\n",
       "                                         normalized_text  word_count  \\\n",
       "0                                               no no no         3.0   \n",
       "1                                            who are you         3.0   \n",
       "2                            the dryer goes on the right         6.0   \n",
       "3      you know one day honest citizens are going to ...        15.0   \n",
       "4      hmm huh and i suppose you want me to buy you a...        34.0   \n",
       "...                                                  ...         ...   \n",
       "36922                                is it even cheating         4.0   \n",
       "36923                      no but-- its just not allowed         6.0   \n",
       "36924  i dont get it football players can do the quar...        27.0   \n",
       "36925      i cant take any more of this guy get the vise        11.0   \n",
       "36926                    i knew you had a vise i knew it         9.0   \n",
       "\n",
       "                                          tokenized_text  \\\n",
       "0       [Paramedic, :, (, QUICK, ), No, ,, no, ,, no, !]   \n",
       "1                   [Bart, Simpson, :, Who, are, you, ?]   \n",
       "2        [Woman, :, The, dryer, goes, on, the, right, .]   \n",
       "3      [Homer, Simpson, :, You, know, ,, one, day, ho...   \n",
       "4      [Kent, Brockman, :, Hmm, huh, ., And, I, suppo...   \n",
       "...                                                  ...   \n",
       "36922     [Homer, Simpson, :, Is, it, even, cheating, ?]   \n",
       "36923  [SECURITY, THUG, #, 2, :, No, ,, but, --, it, ...   \n",
       "36924  [Homer, Simpson, :, I, do, n't, get, it, ., Fo...   \n",
       "36925  [SECURITY, THUG, #, 1, :, I, ca, n't, take, an...   \n",
       "36926  [Homer, Simpson, :, (, SMUG, ), I, knew, you, ...   \n",
       "\n",
       "                                                 stemmed  \\\n",
       "0                     paramed : ( quick ) no , no , no !   \n",
       "1                           bart simpson : who are you ?   \n",
       "2                   woman : the dryer goe on the right .   \n",
       "3      homer simpson : you know , one day honest citi...   \n",
       "4      kent brockman : hmm huh . and i suppos you wan...   \n",
       "...                                                  ...   \n",
       "36922                 homer simpson : is it even cheat ?   \n",
       "36923  secur thug # 2 : no , but -- it 's just not al...   \n",
       "36924  homer simpson : i do n't get it . footbal play...   \n",
       "36925  secur thug # 1 : i ca n't take ani more of thi...   \n",
       "36926  homer simpson : ( smug ) i knew you had a vise...   \n",
       "\n",
       "                                                 cleared  class  \n",
       "0                                          paramed quick      0  \n",
       "1                                           bart simpson      0  \n",
       "2                                  woman dryer goe right      0  \n",
       "3      homer simpson know one day honest citizen go s...      0  \n",
       "4      kent brockman hmm huh suppos want buy new one ...      0  \n",
       "...                                                  ...    ...  \n",
       "36922                           homer simpson even cheat   1187  \n",
       "36923                                 secur thug 2 allow   1187  \n",
       "36924  homer simpson n get footbal player quarterback...   1187  \n",
       "36925            secur thug 1 ca n take ani guy get vise   1187  \n",
       "36926                  homer simpson smug knew vise knew   1187  \n",
       "\n",
       "[36927 rows x 17 columns]"
      ]
     },
     "execution_count": 17,
     "metadata": {},
     "output_type": "execute_result"
    }
   ],
   "source": [
    "df"
   ]
  },
  {
   "cell_type": "code",
   "execution_count": 18,
   "id": "59572dee-613e-49d1-8720-e376e6432f10",
   "metadata": {},
   "outputs": [],
   "source": [
    "dc = df['cleared'].apply(lambda x: x.split(' '))"
   ]
  },
  {
   "cell_type": "code",
   "execution_count": 19,
   "id": "76639ea5-244d-45d1-832f-8c0f94a4dfb8",
   "metadata": {},
   "outputs": [
    {
     "name": "stderr",
     "output_type": "stream",
     "text": [
      "c:\\users\\ray\\documents\\shhh\\env\\lib\\site-packages\\gensim\\similarities\\__init__.py:15: UserWarning: The gensim.similarities.levenshtein submodule is disabled, because the optional Levenshtein package <https://pypi.org/project/python-Levenshtein/> is unavailable. Install Levenhstein (e.g. `pip install python-Levenshtein`) to suppress this warning.\n",
      "  warnings.warn(msg)\n"
     ]
    },
    {
     "name": "stdout",
     "output_type": "stream",
     "text": [
      "0                                         [paramed, quick]\n",
      "1                                          [bart, simpson]\n",
      "2                               [woman, dryer, goe, right]\n",
      "3        [homer, simpson, know, one, day, honest, citiz...\n",
      "4        [kent, brockman, hmm, huh, suppos, want, buy, ...\n",
      "                               ...                        \n",
      "36922                        [homer, simpson, even, cheat]\n",
      "36923                              [secur, thug, 2, allow]\n",
      "36924    [homer, simpson, n, get, footbal, player, quar...\n",
      "36925    [secur, thug, 1, ca, n, take, ani, guy, get, v...\n",
      "36926             [homer, simpson, smug, knew, vise, knew]\n",
      "Name: cleared, Length: 36927, dtype: object\n"
     ]
    }
   ],
   "source": [
    "import gensim.downloader as api\n",
    "from gensim.models import KeyedVectors\n",
    "filename = 'GoogleNews-vectors-negative300.bin'\n",
    "\n",
    "print(dc)\n",
    "model = KeyedVectors.load_word2vec_format(filename, binary=True)"
   ]
  },
  {
   "cell_type": "code",
   "execution_count": 107,
   "id": "05256431-8a2e-41c0-81f2-1d9494415ec1",
   "metadata": {},
   "outputs": [],
   "source": [
    "global_min = 130\n",
    "def get_transform(values):\n",
    "    words_emb = []\n",
    "    \n",
    "    for word in values:\n",
    "        try:\n",
    "            # Get embedding association\n",
    "            words_emb.append(  model[word] )\n",
    "        except:\n",
    "            # If no association skip\n",
    "            pass\n",
    "        # Padding to get equal vectors\n",
    "    if len(words_emb)<global_min:\n",
    "        words_emb += [0]*(global_min - len(words_emb))\n",
    "    return words_emb\n",
    "dc = df['tokenized_text']\n",
    "wordvec_rep = dc.apply(lambda x: get_transform(x))"
   ]
  },
  {
   "cell_type": "code",
   "execution_count": 108,
   "id": "419924cb-f6cc-4202-bfbe-d9b43a07641e",
   "metadata": {},
   "outputs": [
    {
     "name": "stderr",
     "output_type": "stream",
     "text": [
      "C:\\Users\\Ray\\AppData\\Local\\Temp/ipykernel_7692/3862667238.py:2: VisibleDeprecationWarning: Creating an ndarray from ragged nested sequences (which is a list-or-tuple of lists-or-tuples-or ndarrays with different lengths or shapes) is deprecated. If you meant to do this, you must specify 'dtype=object' when creating the ndarray.\n",
      "  wordvec_rep = np.array([np.array(xi) for xi in wordvec_rep.values])\n"
     ]
    }
   ],
   "source": [
    "# print(wordvec_rep.values)\n",
    "wordvec_rep = np.array([np.array(xi) for xi in wordvec_rep.values])"
   ]
  },
  {
   "cell_type": "code",
   "execution_count": 101,
   "id": "a0e86666-f37e-44bb-85ec-0c71c5638044",
   "metadata": {},
   "outputs": [
    {
     "name": "stdout",
     "output_type": "stream",
     "text": [
      "(29541, 130)\n",
      "(29541,)\n"
     ]
    }
   ],
   "source": [
    "X_train, X_test, y_train, y_test  = train_test_split(wordvec_rep, y, test_size=test_size, random_state=42)\n",
    "print(X_train.shape)\n",
    "print(y_train.shape)\n"
   ]
  },
  {
   "cell_type": "code",
   "execution_count": null,
   "id": "c5cd6438-8980-424c-980f-1fdf691990c9",
   "metadata": {},
   "outputs": [],
   "source": [
    "from sklearn.naive_bayes import MultinomialNB\n",
    "from sklearn.metrics import precision_score\n",
    "\n",
    "clf = MultinomialNB()\n",
    "print(X_train.shape)\n",
    "print(y_train.shape)\n",
    "y_train = np.array(y_train)\n",
    "clf.fit(X_train, list(y_train))"
   ]
  },
  {
   "cell_type": "code",
   "execution_count": null,
   "id": "ab18ad0c-fe18-4599-8d5b-47743c9be7bd",
   "metadata": {},
   "outputs": [],
   "source": [
    "predictions = clf.predict(X_test)"
   ]
  },
  {
   "cell_type": "code",
   "execution_count": null,
   "id": "e4eb25c2-6bee-4954-811f-4bbf27c71c63",
   "metadata": {},
   "outputs": [],
   "source": [
    "scores = precision_recall_fscore_support(y_test, predictions, average='weighted')\n",
    "precision = precision_score(y_test, predictions, average='weighted')\n",
    "print(precision)\n",
    "print(scores)"
   ]
  },
  {
   "cell_type": "markdown",
   "id": "eb87d9eb-7646-4d6a-91c0-81d598501fd9",
   "metadata": {},
   "source": [
    "# Fourth Approach : Using a pretrained model from the state-of-art and transfer it to this task."
   ]
  },
  {
   "cell_type": "code",
   "execution_count": null,
   "id": "38243451-0fd1-41f1-8783-15ad7adbe3a9",
   "metadata": {},
   "outputs": [],
   "source": []
  }
 ],
 "metadata": {
  "kernelspec": {
   "display_name": "local-venv",
   "language": "python",
   "name": "local-venv"
  },
  "language_info": {
   "codemirror_mode": {
    "name": "ipython",
    "version": 3
   },
   "file_extension": ".py",
   "mimetype": "text/x-python",
   "name": "python",
   "nbconvert_exporter": "python",
   "pygments_lexer": "ipython3",
   "version": "3.8.8"
  }
 },
 "nbformat": 4,
 "nbformat_minor": 5
}
